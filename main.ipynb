{
  "nbformat": 4,
  "nbformat_minor": 0,
  "metadata": {
    "colab": {
      "provenance": []
    },
    "kernelspec": {
      "name": "python3",
      "display_name": "Python 3"
    },
    "language_info": {
      "name": "python"
    }
  },
  "cells": [
    {
      "cell_type": "markdown",
      "source": [
        "# Prueba de Chi-Cuadrado\n",
        "Para realizar la Prueba de Chi-Cuadrado, necesitaremos 20 números aleatorios. Podemos dividir estos números en intervalos y luego comparar la frecuencia observada en cada intervalo con la frecuencia esperada si los números fueran uniformemente distribuidos.\n",
        "\n",
        "## Generación de 20 Números Aleatorios\n",
        "\n",
        "Vamos a generar 20 números aleatorios en el rango [0, 1] y luego los dividiremos en 4 intervalos iguales para aplicar la Prueba de Chi-Cuadrado."
      ],
      "metadata": {
        "id": "8hPA2nkYvBER"
      }
    },
    {
      "cell_type": "code",
      "execution_count": null,
      "metadata": {
        "colab": {
          "base_uri": "https://localhost:8080/"
        },
        "id": "iORepFz6MgTs",
        "outputId": "83ffc3af-e0d3-4ac7-8b2f-777bd1aa02ad"
      },
      "outputs": [
        {
          "output_type": "execute_result",
          "data": {
            "text/plain": [
              "(array([0.53973366, 0.28978919, 0.9481132 , 0.37118651, 0.34448993,\n",
              "        0.9881888 , 0.18385342, 0.77256748, 0.71668274, 0.83008225,\n",
              "        0.45712711, 0.8423145 , 0.42867145, 0.39704351, 0.07758309,\n",
              "        0.70023575, 0.64859747, 0.60339392, 0.46452417, 0.52118346]),\n",
              " [2, 7, 6, 5])"
            ]
          },
          "metadata": {},
          "execution_count": 1
        }
      ],
      "source": [
        "# Importando la librería necesaria\n",
        "import numpy as np\n",
        "\n",
        "# Generando 20 números aleatorios en el rango [0, 1]\n",
        "random_numbers = np.random.rand(20)\n",
        "\n",
        "# Creando 4 intervalos iguales\n",
        "intervals = [0.25, 0.5, 0.75, 1.0]\n",
        "\n",
        "# Contando cuántos números caen en cada intervalo\n",
        "counts = [0] * 4\n",
        "for number in random_numbers:\n",
        "    for i, interval in enumerate(intervals):\n",
        "        if number <= interval:\n",
        "            counts[i] += 1\n",
        "            break\n",
        "\n",
        "random_numbers, counts"
      ]
    },
    {
      "cell_type": "markdown",
      "source": [
        "Hemos generado 20 números aleatorios y los hemos dividido en 4 intervalos iguales. Las cuentas en cada intervalo son las siguientes:\n",
        "\n",
        "- Intervalo 1 (0.00 - 0.25): 2 números\n",
        "- Intervalo 2 (0.25 - 0.50): 7 números\n",
        "- Intervalo 3 (0.50 - 0.75): 6 números\n",
        "- Intervalo 4 (0.75 - 1.00): 5 números\n",
        "\n",
        "## Aplicación de la Prueba de Chi-Cuadrado\n",
        "\n",
        "La Prueba de Chi-Cuadrado evalúa si las frecuencias observadas en estos intervalos difieren significativamente de lo que esperaríamos si los números fueran uniformemente distribuidos. La fórmula para calcular el estadístico $x^2$ es:\n",
        "\n",
        "$$x^2=\\sum \\dfrac{(O_i-E_i)^2}{E_i}$$\n",
        "\n",
        "Donde\n",
        "\n",
        "- $O_i$ es la frecuencia observada en el intervalo $i$\n",
        "- $E_i$ es la frecuencia esperada en el intervalo $i$ (en este caso,$E_i=5$ para todos los intervalos, ya que esperamos una distribución uniforme)\n",
        "\n",
        "> Nota: $E_i = \\dfrac{20}{4} = 5$\n",
        "\n",
        "Calculando el valor de $x^2$ es:"
      ],
      "metadata": {
        "id": "YdX58rZIvCmK"
      }
    },
    {
      "cell_type": "code",
      "source": [
        "# Definiendo la frecuencia esperada en cada intervalo (uniforme)\n",
        "expected_counts = [5] * 4\n",
        "\n",
        "# Calculando el valor de Chi-Cuadrado\n",
        "chi_squared = sum(((o - e) ** 2) / e for o, e in zip(counts, expected_counts))\n",
        "chi_squared"
      ],
      "metadata": {
        "colab": {
          "base_uri": "https://localhost:8080/"
        },
        "id": "lYMDfcsGwM-x",
        "outputId": "4ad2fde1-4fe2-40fc-ff67-7fee8a9b510e"
      },
      "execution_count": null,
      "outputs": [
        {
          "output_type": "execute_result",
          "data": {
            "text/plain": [
              "2.8000000000000003"
            ]
          },
          "metadata": {},
          "execution_count": 2
        }
      ]
    },
    {
      "cell_type": "markdown",
      "source": [
        "## Cálculo del Estadístico $x^2$\n",
        "\n",
        "Las frecuencias observadas (O) y esperadas (E) son las siguientes:\n",
        "\n",
        "- Intervalo 1: $O=2,E=5$\n",
        "- Intervalo 2: $O=7,E=5$\n",
        "- Intervalo 3: $O=6,E=5$\n",
        "- Intervalo 4: $O=5,E=5$\n",
        "\n",
        "Aplicando la fórmula:\n",
        "\n",
        "El valor calculado para el estadístico $x^2$ es: 2.8\n",
        "\n",
        "$$ x^2 = \\dfrac{(2-5)^2}{5}+\\dfrac{(7-5)^2}{5}+\\dfrac{(6-5)^2}{5}+\\dfrac{(5-5)^2}{5} $$\n",
        "\n",
        "$$ = \\dfrac{9}{5}+\\dfrac{4}{5}+\\dfrac{1}{5}+\\dfrac{0}{5} $$\n",
        "\n",
        "$$ = \\dfrac{14}{5} $$\n",
        "\n",
        "$$ = 2.8 $$\n"
      ],
      "metadata": {
        "id": "fv9DvcV01CjN"
      }
    },
    {
      "cell_type": "markdown",
      "source": [
        "# Conclusión\n",
        "\n",
        "Al comparar este valor con el valor crítico de la distribución $x^2$ con 3 grados de libertad (4 intervalos menos 1) y a un nivel de significancia de 0.05, el valor crítico es aproximadamente 7.815.\n",
        "\n",
        "Dado que nuestro valor calculado de $x^2$ es menor que el valor crítico, no rechazamos la hipótesis nula de que los números son uniformemente distribuidos.\n",
        "\n",
        "Por lo tanto, la secuencia de 20 números aleatorios proporcionados **pasa** la Prueba de Chi-Cuadrado para la uniformidad."
      ],
      "metadata": {
        "id": "kmOJfLR92deQ"
      }
    }
  ]
}